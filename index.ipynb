{
 "cells": [
  {
   "cell_type": "markdown",
   "id": "a14b93c2",
   "metadata": {},
   "source": [
    "## TWITTER SENTIMENT ANALYSIS"
   ]
  },
  {
   "cell_type": "code",
   "execution_count": 99,
   "id": "2f5702df",
   "metadata": {},
   "outputs": [
    {
     "name": "stderr",
     "output_type": "stream",
     "text": [
      "[nltk_data] Downloading package punkt_tab to\n",
      "[nltk_data]     C:\\Users\\Mannu\\AppData\\Roaming\\nltk_data...\n",
      "[nltk_data]   Package punkt_tab is already up-to-date!\n",
      "[nltk_data] Downloading package wordnet to\n",
      "[nltk_data]     C:\\Users\\Mannu\\AppData\\Roaming\\nltk_data...\n",
      "[nltk_data]   Package wordnet is already up-to-date!\n"
     ]
    }
   ],
   "source": [
    "#import libraries \n",
    "import pandas as pd\n",
    "import numpy as np\n",
    "import nltk\n",
    "from nltk.tokenize import word_tokenize\n",
    "from nltk.corpus import stopwords\n",
    "import re\n",
    "from sklearn.feature_extraction.text import TfidfVectorizer\n",
    "nltk.download('punkt_tab')\n",
    "nltk.download('wordnet')\n",
    "import matplotlib.pyplot as plt\n",
    "import seaborn as sns\n"
   ]
  },
  {
   "cell_type": "code",
   "execution_count": 100,
   "id": "8d407a95",
   "metadata": {},
   "outputs": [
    {
     "data": {
      "text/html": [
       "<div>\n",
       "<style scoped>\n",
       "    .dataframe tbody tr th:only-of-type {\n",
       "        vertical-align: middle;\n",
       "    }\n",
       "\n",
       "    .dataframe tbody tr th {\n",
       "        vertical-align: top;\n",
       "    }\n",
       "\n",
       "    .dataframe thead th {\n",
       "        text-align: right;\n",
       "    }\n",
       "</style>\n",
       "<table border=\"1\" class=\"dataframe\">\n",
       "  <thead>\n",
       "    <tr style=\"text-align: right;\">\n",
       "      <th></th>\n",
       "      <th>tweet_text</th>\n",
       "      <th>emotion_in_tweet_is_directed_at</th>\n",
       "      <th>is_there_an_emotion_directed_at_a_brand_or_product</th>\n",
       "    </tr>\n",
       "  </thead>\n",
       "  <tbody>\n",
       "    <tr>\n",
       "      <th>0</th>\n",
       "      <td>.@wesley83 I have a 3G iPhone. After 3 hrs twe...</td>\n",
       "      <td>iPhone</td>\n",
       "      <td>Negative emotion</td>\n",
       "    </tr>\n",
       "    <tr>\n",
       "      <th>1</th>\n",
       "      <td>@jessedee Know about @fludapp ? Awesome iPad/i...</td>\n",
       "      <td>iPad or iPhone App</td>\n",
       "      <td>Positive emotion</td>\n",
       "    </tr>\n",
       "    <tr>\n",
       "      <th>2</th>\n",
       "      <td>@swonderlin Can not wait for #iPad 2 also. The...</td>\n",
       "      <td>iPad</td>\n",
       "      <td>Positive emotion</td>\n",
       "    </tr>\n",
       "    <tr>\n",
       "      <th>3</th>\n",
       "      <td>@sxsw I hope this year's festival isn't as cra...</td>\n",
       "      <td>iPad or iPhone App</td>\n",
       "      <td>Negative emotion</td>\n",
       "    </tr>\n",
       "    <tr>\n",
       "      <th>4</th>\n",
       "      <td>@sxtxstate great stuff on Fri #SXSW: Marissa M...</td>\n",
       "      <td>Google</td>\n",
       "      <td>Positive emotion</td>\n",
       "    </tr>\n",
       "  </tbody>\n",
       "</table>\n",
       "</div>"
      ],
      "text/plain": [
       "                                          tweet_text  \\\n",
       "0  .@wesley83 I have a 3G iPhone. After 3 hrs twe...   \n",
       "1  @jessedee Know about @fludapp ? Awesome iPad/i...   \n",
       "2  @swonderlin Can not wait for #iPad 2 also. The...   \n",
       "3  @sxsw I hope this year's festival isn't as cra...   \n",
       "4  @sxtxstate great stuff on Fri #SXSW: Marissa M...   \n",
       "\n",
       "  emotion_in_tweet_is_directed_at  \\\n",
       "0                          iPhone   \n",
       "1              iPad or iPhone App   \n",
       "2                            iPad   \n",
       "3              iPad or iPhone App   \n",
       "4                          Google   \n",
       "\n",
       "  is_there_an_emotion_directed_at_a_brand_or_product  \n",
       "0                                   Negative emotion  \n",
       "1                                   Positive emotion  \n",
       "2                                   Positive emotion  \n",
       "3                                   Negative emotion  \n",
       "4                                   Positive emotion  "
      ]
     },
     "execution_count": 100,
     "metadata": {},
     "output_type": "execute_result"
    }
   ],
   "source": [
    "#load the data\n",
    "df = pd.read_csv(\"judge-1377884607_tweet_product_company.csv\", encoding= 'latin1')\n",
    "df.head()"
   ]
  },
  {
   "cell_type": "code",
   "execution_count": 101,
   "id": "be37533e",
   "metadata": {},
   "outputs": [
    {
     "data": {
      "text/plain": [
       "Index(['tweet_text', 'emotion_in_tweet_is_directed_at',\n",
       "       'is_there_an_emotion_directed_at_a_brand_or_product'],\n",
       "      dtype='object')"
      ]
     },
     "execution_count": 101,
     "metadata": {},
     "output_type": "execute_result"
    }
   ],
   "source": [
    "#print the columns \n",
    "df.columns"
   ]
  },
  {
   "cell_type": "code",
   "execution_count": 102,
   "id": "4152dd52",
   "metadata": {},
   "outputs": [
    {
     "data": {
      "text/html": [
       "<div>\n",
       "<style scoped>\n",
       "    .dataframe tbody tr th:only-of-type {\n",
       "        vertical-align: middle;\n",
       "    }\n",
       "\n",
       "    .dataframe tbody tr th {\n",
       "        vertical-align: top;\n",
       "    }\n",
       "\n",
       "    .dataframe thead th {\n",
       "        text-align: right;\n",
       "    }\n",
       "</style>\n",
       "<table border=\"1\" class=\"dataframe\">\n",
       "  <thead>\n",
       "    <tr style=\"text-align: right;\">\n",
       "      <th></th>\n",
       "      <th>tweet</th>\n",
       "      <th>product</th>\n",
       "      <th>sentiment</th>\n",
       "    </tr>\n",
       "  </thead>\n",
       "  <tbody>\n",
       "    <tr>\n",
       "      <th>0</th>\n",
       "      <td>.@wesley83 I have a 3G iPhone. After 3 hrs twe...</td>\n",
       "      <td>iPhone</td>\n",
       "      <td>Negative emotion</td>\n",
       "    </tr>\n",
       "    <tr>\n",
       "      <th>1</th>\n",
       "      <td>@jessedee Know about @fludapp ? Awesome iPad/i...</td>\n",
       "      <td>iPad or iPhone App</td>\n",
       "      <td>Positive emotion</td>\n",
       "    </tr>\n",
       "    <tr>\n",
       "      <th>2</th>\n",
       "      <td>@swonderlin Can not wait for #iPad 2 also. The...</td>\n",
       "      <td>iPad</td>\n",
       "      <td>Positive emotion</td>\n",
       "    </tr>\n",
       "    <tr>\n",
       "      <th>3</th>\n",
       "      <td>@sxsw I hope this year's festival isn't as cra...</td>\n",
       "      <td>iPad or iPhone App</td>\n",
       "      <td>Negative emotion</td>\n",
       "    </tr>\n",
       "    <tr>\n",
       "      <th>4</th>\n",
       "      <td>@sxtxstate great stuff on Fri #SXSW: Marissa M...</td>\n",
       "      <td>Google</td>\n",
       "      <td>Positive emotion</td>\n",
       "    </tr>\n",
       "  </tbody>\n",
       "</table>\n",
       "</div>"
      ],
      "text/plain": [
       "                                               tweet             product  \\\n",
       "0  .@wesley83 I have a 3G iPhone. After 3 hrs twe...              iPhone   \n",
       "1  @jessedee Know about @fludapp ? Awesome iPad/i...  iPad or iPhone App   \n",
       "2  @swonderlin Can not wait for #iPad 2 also. The...                iPad   \n",
       "3  @sxsw I hope this year's festival isn't as cra...  iPad or iPhone App   \n",
       "4  @sxtxstate great stuff on Fri #SXSW: Marissa M...              Google   \n",
       "\n",
       "          sentiment  \n",
       "0  Negative emotion  \n",
       "1  Positive emotion  \n",
       "2  Positive emotion  \n",
       "3  Negative emotion  \n",
       "4  Positive emotion  "
      ]
     },
     "execution_count": 102,
     "metadata": {},
     "output_type": "execute_result"
    }
   ],
   "source": [
    "#rename the columns\n",
    "df = df.rename(columns= {\n",
    "    'tweet_text': 'tweet',\n",
    "    'emotion_in_tweet_is_directed_at': 'product',\n",
    "    'is_there_an_emotion_directed_at_a_brand_or_product': 'sentiment'\n",
    "})\n",
    "df.head()"
   ]
  },
  {
   "cell_type": "code",
   "execution_count": 103,
   "id": "84ee59c1",
   "metadata": {},
   "outputs": [
    {
     "data": {
      "text/plain": [
       "(9093, 3)"
      ]
     },
     "execution_count": 103,
     "metadata": {},
     "output_type": "execute_result"
    }
   ],
   "source": [
    "df.shape"
   ]
  },
  {
   "cell_type": "code",
   "execution_count": 104,
   "id": "2dbde4db",
   "metadata": {},
   "outputs": [
    {
     "name": "stdout",
     "output_type": "stream",
     "text": [
      "<class 'pandas.core.frame.DataFrame'>\n",
      "RangeIndex: 9093 entries, 0 to 9092\n",
      "Data columns (total 3 columns):\n",
      " #   Column     Non-Null Count  Dtype \n",
      "---  ------     --------------  ----- \n",
      " 0   tweet      9092 non-null   object\n",
      " 1   product    3291 non-null   object\n",
      " 2   sentiment  9093 non-null   object\n",
      "dtypes: object(3)\n",
      "memory usage: 213.2+ KB\n"
     ]
    }
   ],
   "source": [
    "df.info()"
   ]
  },
  {
   "cell_type": "markdown",
   "id": "f9bf21d6",
   "metadata": {},
   "source": [
    "### From the info above column tweet has one missing value while the product column has alot of missing values"
   ]
  },
  {
   "cell_type": "code",
   "execution_count": 105,
   "id": "476d59a1",
   "metadata": {},
   "outputs": [],
   "source": [
    "#drop Nan in tweets\n",
    "df.dropna(subset= ['tweet'], inplace=True)"
   ]
  },
  {
   "cell_type": "code",
   "execution_count": 106,
   "id": "4a741356",
   "metadata": {},
   "outputs": [],
   "source": [
    "#drop duplicates\n",
    "df.drop_duplicates(inplace=True)"
   ]
  },
  {
   "cell_type": "code",
   "execution_count": 107,
   "id": "1f7e5739",
   "metadata": {},
   "outputs": [
    {
     "data": {
      "text/plain": [
       "(9070, 3)"
      ]
     },
     "execution_count": 107,
     "metadata": {},
     "output_type": "execute_result"
    }
   ],
   "source": [
    "df.shape"
   ]
  },
  {
   "cell_type": "code",
   "execution_count": 108,
   "id": "98ab61e8",
   "metadata": {},
   "outputs": [
    {
     "data": {
      "text/plain": [
       "tweet           0\n",
       "product      5788\n",
       "sentiment       0\n",
       "dtype: int64"
      ]
     },
     "execution_count": 108,
     "metadata": {},
     "output_type": "execute_result"
    }
   ],
   "source": [
    "#check missing values\n",
    "df.isna().sum()"
   ]
  },
  {
   "cell_type": "markdown",
   "id": "10da9a23",
   "metadata": {},
   "source": [
    "## for the missing values in product we fill with *undefined*"
   ]
  },
  {
   "cell_type": "code",
   "execution_count": 109,
   "id": "0f89b5f2",
   "metadata": {},
   "outputs": [],
   "source": [
    "df['product'] = df['product'].fillna('undefined')"
   ]
  },
  {
   "cell_type": "code",
   "execution_count": 110,
   "id": "47631cd0",
   "metadata": {},
   "outputs": [
    {
     "data": {
      "text/plain": [
       "tweet        0\n",
       "product      0\n",
       "sentiment    0\n",
       "dtype: int64"
      ]
     },
     "execution_count": 110,
     "metadata": {},
     "output_type": "execute_result"
    }
   ],
   "source": [
    "df.isna().sum()"
   ]
  },
  {
   "cell_type": "markdown",
   "id": "4ef90c22",
   "metadata": {},
   "source": [
    "## EDA"
   ]
  },
  {
   "cell_type": "code",
   "execution_count": 111,
   "id": "cd09feba",
   "metadata": {},
   "outputs": [
    {
     "data": {
      "image/png": "[encoded data removed]",
      "text/plain": [
       "<Figure size 720x576 with 1 Axes>"
      ]
     },
     "metadata": {
      "needs_background": "light"
     },
     "output_type": "display_data"
    }
   ],
   "source": [
    "# Product distribution \n",
    "fig, ax = plt.subplots(figsize = (10, 8))\n",
    "sns.histplot(df['product'])\n",
    "ax.set_title('Product Distribution')\n",
    "ax.set_xlabel('Product')\n",
    "ax.set_ylabel('Frequency')\n",
    "ax.tick_params(axis ='x', rotation = 45)\n",
    "plt.show()"
   ]
  },
  {
   "cell_type": "markdown",
   "id": "6a1a04a6",
   "metadata": {},
   "source": [
    "### There's high class imbalance and that may affect the analysis"
   ]
  },
  {
   "cell_type": "code",
   "execution_count": 112,
   "id": "747d1c08",
   "metadata": {},
   "outputs": [],
   "source": [
    "#let's create a copy of our data\n",
    "df_copy = df.copy()"
   ]
  },
  {
   "cell_type": "code",
   "execution_count": 113,
   "id": "aa46c4a8",
   "metadata": {},
   "outputs": [
    {
     "data": {
      "image/png": "[encoded data removed]",
      "text/plain": [
       "<Figure size 720x576 with 1 Axes>"
      ]
     },
     "metadata": {
      "needs_background": "light"
     },
     "output_type": "display_data"
    }
   ],
   "source": [
    "#sentiment class distribution\n",
    "fig, ax = plt.subplots(figsize = (10,8))\n",
    "sns.countplot(data = df, x = 'sentiment', ax=ax)\n",
    "ax.set_title('Sentiment Distribution')\n",
    "ax.set_xlabel('sentiment')\n",
    "ax.set_ylabel('Count')\n",
    "ax.tick_params(axis = 'x', rotation= 45)\n",
    "plt.show()"
   ]
  },
  {
   "cell_type": "code",
   "execution_count": 114,
   "id": "0dd07040",
   "metadata": {},
   "outputs": [],
   "source": [
    "#create a new column showing the number of characters in each tweet\n",
    "df['Chars'] = df['tweet'].apply(len)"
   ]
  },
  {
   "cell_type": "code",
   "execution_count": 115,
   "id": "41f5ebbd",
   "metadata": {},
   "outputs": [
    {
     "data": {
      "text/html": [
       "<div>\n",
       "<style scoped>\n",
       "    .dataframe tbody tr th:only-of-type {\n",
       "        vertical-align: middle;\n",
       "    }\n",
       "\n",
       "    .dataframe tbody tr th {\n",
       "        vertical-align: top;\n",
       "    }\n",
       "\n",
       "    .dataframe thead th {\n",
       "        text-align: right;\n",
       "    }\n",
       "</style>\n",
       "<table border=\"1\" class=\"dataframe\">\n",
       "  <thead>\n",
       "    <tr style=\"text-align: right;\">\n",
       "      <th></th>\n",
       "      <th>tweet</th>\n",
       "      <th>product</th>\n",
       "      <th>sentiment</th>\n",
       "      <th>Chars</th>\n",
       "    </tr>\n",
       "  </thead>\n",
       "  <tbody>\n",
       "    <tr>\n",
       "      <th>0</th>\n",
       "      <td>.@wesley83 I have a 3G iPhone. After 3 hrs twe...</td>\n",
       "      <td>iPhone</td>\n",
       "      <td>Negative emotion</td>\n",
       "      <td>127</td>\n",
       "    </tr>\n",
       "    <tr>\n",
       "      <th>1</th>\n",
       "      <td>@jessedee Know about @fludapp ? Awesome iPad/i...</td>\n",
       "      <td>iPad or iPhone App</td>\n",
       "      <td>Positive emotion</td>\n",
       "      <td>139</td>\n",
       "    </tr>\n",
       "    <tr>\n",
       "      <th>2</th>\n",
       "      <td>@swonderlin Can not wait for #iPad 2 also. The...</td>\n",
       "      <td>iPad</td>\n",
       "      <td>Positive emotion</td>\n",
       "      <td>79</td>\n",
       "    </tr>\n",
       "    <tr>\n",
       "      <th>3</th>\n",
       "      <td>@sxsw I hope this year's festival isn't as cra...</td>\n",
       "      <td>iPad or iPhone App</td>\n",
       "      <td>Negative emotion</td>\n",
       "      <td>82</td>\n",
       "    </tr>\n",
       "    <tr>\n",
       "      <th>4</th>\n",
       "      <td>@sxtxstate great stuff on Fri #SXSW: Marissa M...</td>\n",
       "      <td>Google</td>\n",
       "      <td>Positive emotion</td>\n",
       "      <td>131</td>\n",
       "    </tr>\n",
       "  </tbody>\n",
       "</table>\n",
       "</div>"
      ],
      "text/plain": [
       "                                               tweet             product  \\\n",
       "0  .@wesley83 I have a 3G iPhone. After 3 hrs twe...              iPhone   \n",
       "1  @jessedee Know about @fludapp ? Awesome iPad/i...  iPad or iPhone App   \n",
       "2  @swonderlin Can not wait for #iPad 2 also. The...                iPad   \n",
       "3  @sxsw I hope this year's festival isn't as cra...  iPad or iPhone App   \n",
       "4  @sxtxstate great stuff on Fri #SXSW: Marissa M...              Google   \n",
       "\n",
       "          sentiment  Chars  \n",
       "0  Negative emotion    127  \n",
       "1  Positive emotion    139  \n",
       "2  Positive emotion     79  \n",
       "3  Negative emotion     82  \n",
       "4  Positive emotion    131  "
      ]
     },
     "execution_count": 115,
     "metadata": {},
     "output_type": "execute_result"
    }
   ],
   "source": [
    "df.head()"
   ]
  },
  {
   "cell_type": "code",
   "execution_count": 116,
   "id": "509b06ff",
   "metadata": {},
   "outputs": [
    {
     "data": {
      "text/html": [
       "<div>\n",
       "<style scoped>\n",
       "    .dataframe tbody tr th:only-of-type {\n",
       "        vertical-align: middle;\n",
       "    }\n",
       "\n",
       "    .dataframe tbody tr th {\n",
       "        vertical-align: top;\n",
       "    }\n",
       "\n",
       "    .dataframe thead th {\n",
       "        text-align: right;\n",
       "    }\n",
       "</style>\n",
       "<table border=\"1\" class=\"dataframe\">\n",
       "  <thead>\n",
       "    <tr style=\"text-align: right;\">\n",
       "      <th></th>\n",
       "      <th>tweet</th>\n",
       "      <th>product</th>\n",
       "      <th>sentiment</th>\n",
       "      <th>Chars</th>\n",
       "      <th>words</th>\n",
       "      <th>sentence</th>\n",
       "    </tr>\n",
       "  </thead>\n",
       "  <tbody>\n",
       "    <tr>\n",
       "      <th>0</th>\n",
       "      <td>.@wesley83 I have a 3G iPhone. After 3 hrs twe...</td>\n",
       "      <td>iPhone</td>\n",
       "      <td>Negative emotion</td>\n",
       "      <td>127</td>\n",
       "      <td>32</td>\n",
       "      <td>5</td>\n",
       "    </tr>\n",
       "    <tr>\n",
       "      <th>1</th>\n",
       "      <td>@jessedee Know about @fludapp ? Awesome iPad/i...</td>\n",
       "      <td>iPad or iPhone App</td>\n",
       "      <td>Positive emotion</td>\n",
       "      <td>139</td>\n",
       "      <td>29</td>\n",
       "      <td>3</td>\n",
       "    </tr>\n",
       "    <tr>\n",
       "      <th>2</th>\n",
       "      <td>@swonderlin Can not wait for #iPad 2 also. The...</td>\n",
       "      <td>iPad</td>\n",
       "      <td>Positive emotion</td>\n",
       "      <td>79</td>\n",
       "      <td>20</td>\n",
       "      <td>2</td>\n",
       "    </tr>\n",
       "    <tr>\n",
       "      <th>3</th>\n",
       "      <td>@sxsw I hope this year's festival isn't as cra...</td>\n",
       "      <td>iPad or iPhone App</td>\n",
       "      <td>Negative emotion</td>\n",
       "      <td>82</td>\n",
       "      <td>21</td>\n",
       "      <td>2</td>\n",
       "    </tr>\n",
       "    <tr>\n",
       "      <th>4</th>\n",
       "      <td>@sxtxstate great stuff on Fri #SXSW: Marissa M...</td>\n",
       "      <td>Google</td>\n",
       "      <td>Positive emotion</td>\n",
       "      <td>131</td>\n",
       "      <td>29</td>\n",
       "      <td>1</td>\n",
       "    </tr>\n",
       "  </tbody>\n",
       "</table>\n",
       "</div>"
      ],
      "text/plain": [
       "                                               tweet             product  \\\n",
       "0  .@wesley83 I have a 3G iPhone. After 3 hrs twe...              iPhone   \n",
       "1  @jessedee Know about @fludapp ? Awesome iPad/i...  iPad or iPhone App   \n",
       "2  @swonderlin Can not wait for #iPad 2 also. The...                iPad   \n",
       "3  @sxsw I hope this year's festival isn't as cra...  iPad or iPhone App   \n",
       "4  @sxtxstate great stuff on Fri #SXSW: Marissa M...              Google   \n",
       "\n",
       "          sentiment  Chars  words  sentence  \n",
       "0  Negative emotion    127     32         5  \n",
       "1  Positive emotion    139     29         3  \n",
       "2  Positive emotion     79     20         2  \n",
       "3  Negative emotion     82     21         2  \n",
       "4  Positive emotion    131     29         1  "
      ]
     },
     "execution_count": 116,
     "metadata": {},
     "output_type": "execute_result"
    }
   ],
   "source": [
    "#create new columns showing the number of words and sentences in each tweet\n",
    "df['words'] = df['tweet'].apply(lambda tweet:nltk.word_tokenize(tweet)).apply(len)\n",
    "df['sentence'] = df['tweet'].apply(lambda tweet:nltk.sent_tokenize(tweet)).apply(len)\n",
    "\n",
    "df.head()"
   ]
  },
  {
   "cell_type": "markdown",
   "id": "23d5781c",
   "metadata": {},
   "source": [
    "### Preprocessing"
   ]
  },
  {
   "cell_type": "code",
   "execution_count": 117,
   "id": "901d14cf",
   "metadata": {},
   "outputs": [
    {
     "data": {
      "text/html": [
       "<div>\n",
       "<style scoped>\n",
       "    .dataframe tbody tr th:only-of-type {\n",
       "        vertical-align: middle;\n",
       "    }\n",
       "\n",
       "    .dataframe tbody tr th {\n",
       "        vertical-align: top;\n",
       "    }\n",
       "\n",
       "    .dataframe thead th {\n",
       "        text-align: right;\n",
       "    }\n",
       "</style>\n",
       "<table border=\"1\" class=\"dataframe\">\n",
       "  <thead>\n",
       "    <tr style=\"text-align: right;\">\n",
       "      <th></th>\n",
       "      <th>Chars</th>\n",
       "      <th>words</th>\n",
       "      <th>sentence</th>\n",
       "    </tr>\n",
       "  </thead>\n",
       "  <tbody>\n",
       "    <tr>\n",
       "      <th>count</th>\n",
       "      <td>9070.000000</td>\n",
       "      <td>9070.000000</td>\n",
       "      <td>9070.000000</td>\n",
       "    </tr>\n",
       "    <tr>\n",
       "      <th>mean</th>\n",
       "      <td>104.959647</td>\n",
       "      <td>24.417420</td>\n",
       "      <td>1.878611</td>\n",
       "    </tr>\n",
       "    <tr>\n",
       "      <th>std</th>\n",
       "      <td>27.202956</td>\n",
       "      <td>6.503311</td>\n",
       "      <td>0.939999</td>\n",
       "    </tr>\n",
       "    <tr>\n",
       "      <th>min</th>\n",
       "      <td>11.000000</td>\n",
       "      <td>3.000000</td>\n",
       "      <td>1.000000</td>\n",
       "    </tr>\n",
       "    <tr>\n",
       "      <th>25%</th>\n",
       "      <td>86.000000</td>\n",
       "      <td>20.000000</td>\n",
       "      <td>1.000000</td>\n",
       "    </tr>\n",
       "    <tr>\n",
       "      <th>50%</th>\n",
       "      <td>109.000000</td>\n",
       "      <td>25.000000</td>\n",
       "      <td>2.000000</td>\n",
       "    </tr>\n",
       "    <tr>\n",
       "      <th>75%</th>\n",
       "      <td>126.000000</td>\n",
       "      <td>29.000000</td>\n",
       "      <td>2.000000</td>\n",
       "    </tr>\n",
       "    <tr>\n",
       "      <th>max</th>\n",
       "      <td>178.000000</td>\n",
       "      <td>49.000000</td>\n",
       "      <td>7.000000</td>\n",
       "    </tr>\n",
       "  </tbody>\n",
       "</table>\n",
       "</div>"
      ],
      "text/plain": [
       "             Chars        words     sentence\n",
       "count  9070.000000  9070.000000  9070.000000\n",
       "mean    104.959647    24.417420     1.878611\n",
       "std      27.202956     6.503311     0.939999\n",
       "min      11.000000     3.000000     1.000000\n",
       "25%      86.000000    20.000000     1.000000\n",
       "50%     109.000000    25.000000     2.000000\n",
       "75%     126.000000    29.000000     2.000000\n",
       "max     178.000000    49.000000     7.000000"
      ]
     },
     "execution_count": 117,
     "metadata": {},
     "output_type": "execute_result"
    }
   ],
   "source": [
    "df.describe()"
   ]
  },
  {
   "cell_type": "code",
   "execution_count": 118,
   "id": "504f216e",
   "metadata": {},
   "outputs": [
    {
     "name": "stdout",
     "output_type": "stream",
     "text": [
      "Most frequent words for sentiment 'Negative emotion': #sxsw, @mention, the, to, #SXSW, a, is, RT, at, of, iPad, I, for, in, Google, {link}, on, iPhone, my, and\n",
      "Most frequent words for sentiment 'Positive emotion': @mention, the, #sxsw, {link}, #SXSW, to, at, RT, for, a, iPad, of, is, in, Apple, and, Google, on, I, 2\n",
      "Most frequent words for sentiment 'No emotion toward brand or product': @mention, {link}, #sxsw, #SXSW, the, to, RT, at, for, a, in, Google, of, and, iPad, Apple, is, on, -, &amp;\n",
      "Most frequent words for sentiment 'I can't tell': @mention, #sxsw, #SXSW, the, to, {link}, at, a, for, is, of, Google, RT, iPad, I, on, in, Apple, my, be\n"
     ]
    }
   ],
   "source": [
    "from collections import Counter\n",
    "\n",
    "def most_frequent_words(df, sentiment, top_n=20):\n",
    "    \"\"\"\n",
    "    Get the most frequent words for a given sentiment.\n",
    "    \n",
    "    Parameters:\n",
    "    df (DataFrame): The DataFrame containing tweets and sentiments.\n",
    "    sentiment (str): The sentiment to filter by.\n",
    "    top_n (int): The number of top words to return.\n",
    "    \n",
    "    Returns:\n",
    "    list: A list of the most frequent words.\n",
    "    \"\"\"\n",
    "    \n",
    "    words = ' '.join(df[df['sentiment'] == sentiment]['tweet']).split()\n",
    "    most_common = Counter(words).most_common(top_n)\n",
    "    return [word for word, count in most_common]\n",
    "\n",
    "# Get most frequent words for each sentiment\n",
    "sentiments = df['sentiment'].unique()\n",
    "most_frequent_words_dict = {sentiment: most_frequent_words(df, sentiment) for sentiment in sentiments}\n",
    "\n",
    "for sentiment, words in most_frequent_words_dict.items():\n",
    "    print(f\"Most frequent words for sentiment '{sentiment}': {', '.join(words)}\")\n",
    "    "
   ]
  },
  {
   "cell_type": "code",
   "execution_count": 119,
   "id": "926df8fd",
   "metadata": {},
   "outputs": [
    {
     "data": {
      "text/html": [
       "<div>\n",
       "<style scoped>\n",
       "    .dataframe tbody tr th:only-of-type {\n",
       "        vertical-align: middle;\n",
       "    }\n",
       "\n",
       "    .dataframe tbody tr th {\n",
       "        vertical-align: top;\n",
       "    }\n",
       "\n",
       "    .dataframe thead th {\n",
       "        text-align: right;\n",
       "    }\n",
       "</style>\n",
       "<table border=\"1\" class=\"dataframe\">\n",
       "  <thead>\n",
       "    <tr style=\"text-align: right;\">\n",
       "      <th></th>\n",
       "      <th>tweet</th>\n",
       "      <th>product</th>\n",
       "      <th>sentiment</th>\n",
       "      <th>Chars</th>\n",
       "      <th>words</th>\n",
       "      <th>sentence</th>\n",
       "      <th>clean_tweet</th>\n",
       "    </tr>\n",
       "  </thead>\n",
       "  <tbody>\n",
       "    <tr>\n",
       "      <th>0</th>\n",
       "      <td>.@wesley83 I have a 3G iPhone. After 3 hrs twe...</td>\n",
       "      <td>iPhone</td>\n",
       "      <td>Negative emotion</td>\n",
       "      <td>127</td>\n",
       "      <td>32</td>\n",
       "      <td>5</td>\n",
       "      <td>i have a g iphone after  hrs tweeting at  it ...</td>\n",
       "    </tr>\n",
       "    <tr>\n",
       "      <th>1</th>\n",
       "      <td>@jessedee Know about @fludapp ? Awesome iPad/i...</td>\n",
       "      <td>iPad or iPhone App</td>\n",
       "      <td>Positive emotion</td>\n",
       "      <td>139</td>\n",
       "      <td>29</td>\n",
       "      <td>3</td>\n",
       "      <td>know about   awesome ipadiphone app that youl...</td>\n",
       "    </tr>\n",
       "    <tr>\n",
       "      <th>2</th>\n",
       "      <td>@swonderlin Can not wait for #iPad 2 also. The...</td>\n",
       "      <td>iPad</td>\n",
       "      <td>Positive emotion</td>\n",
       "      <td>79</td>\n",
       "      <td>20</td>\n",
       "      <td>2</td>\n",
       "      <td>can not wait for   also they should sale them...</td>\n",
       "    </tr>\n",
       "    <tr>\n",
       "      <th>3</th>\n",
       "      <td>@sxsw I hope this year's festival isn't as cra...</td>\n",
       "      <td>iPad or iPhone App</td>\n",
       "      <td>Negative emotion</td>\n",
       "      <td>82</td>\n",
       "      <td>21</td>\n",
       "      <td>2</td>\n",
       "      <td>i hope this years festival isnt as crashy as ...</td>\n",
       "    </tr>\n",
       "    <tr>\n",
       "      <th>4</th>\n",
       "      <td>@sxtxstate great stuff on Fri #SXSW: Marissa M...</td>\n",
       "      <td>Google</td>\n",
       "      <td>Positive emotion</td>\n",
       "      <td>131</td>\n",
       "      <td>29</td>\n",
       "      <td>1</td>\n",
       "      <td>great stuff on fri  marissa mayer google tim ...</td>\n",
       "    </tr>\n",
       "  </tbody>\n",
       "</table>\n",
       "</div>"
      ],
      "text/plain": [
       "                                               tweet             product  \\\n",
       "0  .@wesley83 I have a 3G iPhone. After 3 hrs twe...              iPhone   \n",
       "1  @jessedee Know about @fludapp ? Awesome iPad/i...  iPad or iPhone App   \n",
       "2  @swonderlin Can not wait for #iPad 2 also. The...                iPad   \n",
       "3  @sxsw I hope this year's festival isn't as cra...  iPad or iPhone App   \n",
       "4  @sxtxstate great stuff on Fri #SXSW: Marissa M...              Google   \n",
       "\n",
       "          sentiment  Chars  words  sentence  \\\n",
       "0  Negative emotion    127     32         5   \n",
       "1  Positive emotion    139     29         3   \n",
       "2  Positive emotion     79     20         2   \n",
       "3  Negative emotion     82     21         2   \n",
       "4  Positive emotion    131     29         1   \n",
       "\n",
       "                                         clean_tweet  \n",
       "0   i have a g iphone after  hrs tweeting at  it ...  \n",
       "1   know about   awesome ipadiphone app that youl...  \n",
       "2   can not wait for   also they should sale them...  \n",
       "3   i hope this years festival isnt as crashy as ...  \n",
       "4   great stuff on fri  marissa mayer google tim ...  "
      ]
     },
     "execution_count": 119,
     "metadata": {},
     "output_type": "execute_result"
    }
   ],
   "source": [
    "#clean the data\n",
    "def data_cleaning(tweet):\n",
    "     return re.sub(r\"http\\S+|www\\S+|@\\w+|#\\w+|[^a-zA-Z\\s]\", \"\", tweet.lower())\n",
    "\n",
    "df['clean_tweet'] = df['tweet'].apply(data_cleaning)\n",
    "df.head()"
   ]
  },
  {
   "cell_type": "code",
   "execution_count": 120,
   "id": "e51eb8f3",
   "metadata": {},
   "outputs": [
    {
     "data": {
      "text/plain": [
       "['i',\n",
       " 'have',\n",
       " 'a',\n",
       " 'g',\n",
       " 'iphone',\n",
       " 'after',\n",
       " 'hrs',\n",
       " 'tweeting',\n",
       " 'at',\n",
       " 'it',\n",
       " '...',\n",
       " 'know',\n",
       " 'about',\n",
       " 'awesome',\n",
       " 'ipadiphone',\n",
       " 'app',\n",
       " 'that',\n",
       " 'youl',\n",
       " '...',\n",
       " 'can',\n",
       " 'not',\n",
       " 'wait',\n",
       " 'for',\n",
       " 'also',\n",
       " 'they',\n",
       " 'should',\n",
       " 'sale',\n",
       " 'them',\n",
       " '...',\n",
       " 'i',\n",
       " 'hope',\n",
       " 'this',\n",
       " 'years',\n",
       " 'festival',\n",
       " 'isnt',\n",
       " 'as',\n",
       " 'crashy',\n",
       " 'as',\n",
       " '...',\n",
       " 'great',\n",
       " 'stuff',\n",
       " 'on',\n",
       " 'fri',\n",
       " 'marissa',\n",
       " 'mayer',\n",
       " 'google',\n",
       " 'tim',\n",
       " '...']"
      ]
     },
     "execution_count": 120,
     "metadata": {},
     "output_type": "execute_result"
    }
   ],
   "source": [
    "#tokenize the clean_tweet\n",
    "def tokenizer_unit(tweet):\n",
    "    tokens = word_tokenize(tweet)\n",
    "\n",
    "    return tokens\n",
    "\n",
    "tokenizer_unit(df['clean_tweet'].head().to_string(index=False))"
   ]
  },
  {
   "cell_type": "code",
   "execution_count": 121,
   "id": "02cba1c0",
   "metadata": {},
   "outputs": [],
   "source": [
    "\n",
    "# remove all the tokens that are not alphaphetic\n",
    "def remove_non_alpha (tokens):\n",
    "    return[token for token in tokens if token.isalpha()]\n",
    "\n",
    "df['tokens'] = df['clean_tweet'].astype(str).apply(tokenizer_unit).apply(remove_non_alpha)"
   ]
  },
  {
   "cell_type": "code",
   "execution_count": 122,
   "id": "b571bf2f",
   "metadata": {},
   "outputs": [
    {
     "data": {
      "text/plain": [
       "(9070, 8)"
      ]
     },
     "execution_count": 122,
     "metadata": {},
     "output_type": "execute_result"
    }
   ],
   "source": [
    "df.shape"
   ]
  },
  {
   "cell_type": "code",
   "execution_count": 123,
   "id": "a33c3e0f",
   "metadata": {},
   "outputs": [],
   "source": [
    "#remove stop words\n",
    "def remove_stopwords(tokens):\n",
    "    stop_words = set(stopwords. words('english'))\n",
    "    return [token for token in tokens if token not in stop_words]\n",
    "\n",
    "df['tokens'] = df['tokens'].apply(remove_stopwords)"
   ]
  },
  {
   "cell_type": "code",
   "execution_count": 124,
   "id": "d7c1683c",
   "metadata": {},
   "outputs": [
    {
     "data": {
      "text/html": [
       "<div>\n",
       "<style scoped>\n",
       "    .dataframe tbody tr th:only-of-type {\n",
       "        vertical-align: middle;\n",
       "    }\n",
       "\n",
       "    .dataframe tbody tr th {\n",
       "        vertical-align: top;\n",
       "    }\n",
       "\n",
       "    .dataframe thead th {\n",
       "        text-align: right;\n",
       "    }\n",
       "</style>\n",
       "<table border=\"1\" class=\"dataframe\">\n",
       "  <thead>\n",
       "    <tr style=\"text-align: right;\">\n",
       "      <th></th>\n",
       "      <th>tweet</th>\n",
       "      <th>product</th>\n",
       "      <th>sentiment</th>\n",
       "      <th>Chars</th>\n",
       "      <th>words</th>\n",
       "      <th>sentence</th>\n",
       "      <th>clean_tweet</th>\n",
       "      <th>tokens</th>\n",
       "    </tr>\n",
       "  </thead>\n",
       "  <tbody>\n",
       "    <tr>\n",
       "      <th>0</th>\n",
       "      <td>.@wesley83 I have a 3G iPhone. After 3 hrs twe...</td>\n",
       "      <td>iPhone</td>\n",
       "      <td>Negative emotion</td>\n",
       "      <td>127</td>\n",
       "      <td>32</td>\n",
       "      <td>5</td>\n",
       "      <td>i have a g iphone after  hrs tweeting at  it ...</td>\n",
       "      <td>[g, iphone, hrs, tweeting, dead, need, upgrade...</td>\n",
       "    </tr>\n",
       "    <tr>\n",
       "      <th>1</th>\n",
       "      <td>@jessedee Know about @fludapp ? Awesome iPad/i...</td>\n",
       "      <td>iPad or iPhone App</td>\n",
       "      <td>Positive emotion</td>\n",
       "      <td>139</td>\n",
       "      <td>29</td>\n",
       "      <td>3</td>\n",
       "      <td>know about   awesome ipadiphone app that youl...</td>\n",
       "      <td>[know, awesome, ipadiphone, app, youll, likely...</td>\n",
       "    </tr>\n",
       "    <tr>\n",
       "      <th>2</th>\n",
       "      <td>@swonderlin Can not wait for #iPad 2 also. The...</td>\n",
       "      <td>iPad</td>\n",
       "      <td>Positive emotion</td>\n",
       "      <td>79</td>\n",
       "      <td>20</td>\n",
       "      <td>2</td>\n",
       "      <td>can not wait for   also they should sale them...</td>\n",
       "      <td>[wait, also, sale]</td>\n",
       "    </tr>\n",
       "    <tr>\n",
       "      <th>3</th>\n",
       "      <td>@sxsw I hope this year's festival isn't as cra...</td>\n",
       "      <td>iPad or iPhone App</td>\n",
       "      <td>Negative emotion</td>\n",
       "      <td>82</td>\n",
       "      <td>21</td>\n",
       "      <td>2</td>\n",
       "      <td>i hope this years festival isnt as crashy as ...</td>\n",
       "      <td>[hope, years, festival, isnt, crashy, years, i...</td>\n",
       "    </tr>\n",
       "    <tr>\n",
       "      <th>4</th>\n",
       "      <td>@sxtxstate great stuff on Fri #SXSW: Marissa M...</td>\n",
       "      <td>Google</td>\n",
       "      <td>Positive emotion</td>\n",
       "      <td>131</td>\n",
       "      <td>29</td>\n",
       "      <td>1</td>\n",
       "      <td>great stuff on fri  marissa mayer google tim ...</td>\n",
       "      <td>[great, stuff, fri, marissa, mayer, google, ti...</td>\n",
       "    </tr>\n",
       "  </tbody>\n",
       "</table>\n",
       "</div>"
      ],
      "text/plain": [
       "                                               tweet             product  \\\n",
       "0  .@wesley83 I have a 3G iPhone. After 3 hrs twe...              iPhone   \n",
       "1  @jessedee Know about @fludapp ? Awesome iPad/i...  iPad or iPhone App   \n",
       "2  @swonderlin Can not wait for #iPad 2 also. The...                iPad   \n",
       "3  @sxsw I hope this year's festival isn't as cra...  iPad or iPhone App   \n",
       "4  @sxtxstate great stuff on Fri #SXSW: Marissa M...              Google   \n",
       "\n",
       "          sentiment  Chars  words  sentence  \\\n",
       "0  Negative emotion    127     32         5   \n",
       "1  Positive emotion    139     29         3   \n",
       "2  Positive emotion     79     20         2   \n",
       "3  Negative emotion     82     21         2   \n",
       "4  Positive emotion    131     29         1   \n",
       "\n",
       "                                         clean_tweet  \\\n",
       "0   i have a g iphone after  hrs tweeting at  it ...   \n",
       "1   know about   awesome ipadiphone app that youl...   \n",
       "2   can not wait for   also they should sale them...   \n",
       "3   i hope this years festival isnt as crashy as ...   \n",
       "4   great stuff on fri  marissa mayer google tim ...   \n",
       "\n",
       "                                              tokens  \n",
       "0  [g, iphone, hrs, tweeting, dead, need, upgrade...  \n",
       "1  [know, awesome, ipadiphone, app, youll, likely...  \n",
       "2                                 [wait, also, sale]  \n",
       "3  [hope, years, festival, isnt, crashy, years, i...  \n",
       "4  [great, stuff, fri, marissa, mayer, google, ti...  "
      ]
     },
     "execution_count": 124,
     "metadata": {},
     "output_type": "execute_result"
    }
   ],
   "source": [
    "df.head()"
   ]
  },
  {
   "cell_type": "markdown",
   "id": "8ba30c88",
   "metadata": {},
   "source": [
    "## Stemming"
   ]
  },
  {
   "cell_type": "code",
   "execution_count": 125,
   "id": "cfa138ba",
   "metadata": {},
   "outputs": [],
   "source": [
    "from nltk.stem import PorterStemmer\n",
    "\n",
    "def stem_words(tokens):\n",
    "    porter = PorterStemmer()\n",
    "    return[porter.stem(token) for token in tokens]\n",
    "\n",
    "df['tokens'] =df['tokens'].apply(stem_words)"
   ]
  },
  {
   "cell_type": "code",
   "execution_count": 126,
   "id": "d6cb0761",
   "metadata": {},
   "outputs": [
    {
     "data": {
      "text/html": [
       "<div>\n",
       "<style scoped>\n",
       "    .dataframe tbody tr th:only-of-type {\n",
       "        vertical-align: middle;\n",
       "    }\n",
       "\n",
       "    .dataframe tbody tr th {\n",
       "        vertical-align: top;\n",
       "    }\n",
       "\n",
       "    .dataframe thead th {\n",
       "        text-align: right;\n",
       "    }\n",
       "</style>\n",
       "<table border=\"1\" class=\"dataframe\">\n",
       "  <thead>\n",
       "    <tr style=\"text-align: right;\">\n",
       "      <th></th>\n",
       "      <th>tweet</th>\n",
       "      <th>product</th>\n",
       "      <th>sentiment</th>\n",
       "      <th>Chars</th>\n",
       "      <th>words</th>\n",
       "      <th>sentence</th>\n",
       "      <th>clean_tweet</th>\n",
       "      <th>tokens</th>\n",
       "    </tr>\n",
       "  </thead>\n",
       "  <tbody>\n",
       "    <tr>\n",
       "      <th>0</th>\n",
       "      <td>.@wesley83 I have a 3G iPhone. After 3 hrs twe...</td>\n",
       "      <td>iPhone</td>\n",
       "      <td>Negative emotion</td>\n",
       "      <td>127</td>\n",
       "      <td>32</td>\n",
       "      <td>5</td>\n",
       "      <td>i have a g iphone after  hrs tweeting at  it ...</td>\n",
       "      <td>[g, iphon, hr, tweet, dead, need, upgrad, plug...</td>\n",
       "    </tr>\n",
       "    <tr>\n",
       "      <th>1</th>\n",
       "      <td>@jessedee Know about @fludapp ? Awesome iPad/i...</td>\n",
       "      <td>iPad or iPhone App</td>\n",
       "      <td>Positive emotion</td>\n",
       "      <td>139</td>\n",
       "      <td>29</td>\n",
       "      <td>3</td>\n",
       "      <td>know about   awesome ipadiphone app that youl...</td>\n",
       "      <td>[know, awesom, ipadiphon, app, youll, like, ap...</td>\n",
       "    </tr>\n",
       "    <tr>\n",
       "      <th>2</th>\n",
       "      <td>@swonderlin Can not wait for #iPad 2 also. The...</td>\n",
       "      <td>iPad</td>\n",
       "      <td>Positive emotion</td>\n",
       "      <td>79</td>\n",
       "      <td>20</td>\n",
       "      <td>2</td>\n",
       "      <td>can not wait for   also they should sale them...</td>\n",
       "      <td>[wait, also, sale]</td>\n",
       "    </tr>\n",
       "    <tr>\n",
       "      <th>3</th>\n",
       "      <td>@sxsw I hope this year's festival isn't as cra...</td>\n",
       "      <td>iPad or iPhone App</td>\n",
       "      <td>Negative emotion</td>\n",
       "      <td>82</td>\n",
       "      <td>21</td>\n",
       "      <td>2</td>\n",
       "      <td>i hope this years festival isnt as crashy as ...</td>\n",
       "      <td>[hope, year, festiv, isnt, crashi, year, iphon...</td>\n",
       "    </tr>\n",
       "    <tr>\n",
       "      <th>4</th>\n",
       "      <td>@sxtxstate great stuff on Fri #SXSW: Marissa M...</td>\n",
       "      <td>Google</td>\n",
       "      <td>Positive emotion</td>\n",
       "      <td>131</td>\n",
       "      <td>29</td>\n",
       "      <td>1</td>\n",
       "      <td>great stuff on fri  marissa mayer google tim ...</td>\n",
       "      <td>[great, stuff, fri, marissa, mayer, googl, tim...</td>\n",
       "    </tr>\n",
       "  </tbody>\n",
       "</table>\n",
       "</div>"
      ],
      "text/plain": [
       "                                               tweet             product  \\\n",
       "0  .@wesley83 I have a 3G iPhone. After 3 hrs twe...              iPhone   \n",
       "1  @jessedee Know about @fludapp ? Awesome iPad/i...  iPad or iPhone App   \n",
       "2  @swonderlin Can not wait for #iPad 2 also. The...                iPad   \n",
       "3  @sxsw I hope this year's festival isn't as cra...  iPad or iPhone App   \n",
       "4  @sxtxstate great stuff on Fri #SXSW: Marissa M...              Google   \n",
       "\n",
       "          sentiment  Chars  words  sentence  \\\n",
       "0  Negative emotion    127     32         5   \n",
       "1  Positive emotion    139     29         3   \n",
       "2  Positive emotion     79     20         2   \n",
       "3  Negative emotion     82     21         2   \n",
       "4  Positive emotion    131     29         1   \n",
       "\n",
       "                                         clean_tweet  \\\n",
       "0   i have a g iphone after  hrs tweeting at  it ...   \n",
       "1   know about   awesome ipadiphone app that youl...   \n",
       "2   can not wait for   also they should sale them...   \n",
       "3   i hope this years festival isnt as crashy as ...   \n",
       "4   great stuff on fri  marissa mayer google tim ...   \n",
       "\n",
       "                                              tokens  \n",
       "0  [g, iphon, hr, tweet, dead, need, upgrad, plug...  \n",
       "1  [know, awesom, ipadiphon, app, youll, like, ap...  \n",
       "2                                 [wait, also, sale]  \n",
       "3  [hope, year, festiv, isnt, crashi, year, iphon...  \n",
       "4  [great, stuff, fri, marissa, mayer, googl, tim...  "
      ]
     },
     "execution_count": 126,
     "metadata": {},
     "output_type": "execute_result"
    }
   ],
   "source": [
    "df.head()"
   ]
  },
  {
   "cell_type": "markdown",
   "id": "e9c5bb25",
   "metadata": {},
   "source": [
    "## Vectorization "
   ]
  },
  {
   "cell_type": "code",
   "execution_count": 128,
   "id": "ac26f87e",
   "metadata": {},
   "outputs": [],
   "source": [
    "from sklearn.feature_extraction.text import TfidfVectorizer\n",
    "\n",
    "#convert tokens back to text\n",
    "def tokens_to_text(tokens):\n",
    "    return ' '.join(tokens)\n",
    "\n",
    "df['processsed_tweet'] = df['tokens'].apply(tokens_to_text)"
   ]
  },
  {
   "cell_type": "code",
   "execution_count": 129,
   "id": "890d5218",
   "metadata": {},
   "outputs": [
    {
     "data": {
      "text/html": [
       "<div>\n",
       "<style scoped>\n",
       "    .dataframe tbody tr th:only-of-type {\n",
       "        vertical-align: middle;\n",
       "    }\n",
       "\n",
       "    .dataframe tbody tr th {\n",
       "        vertical-align: top;\n",
       "    }\n",
       "\n",
       "    .dataframe thead th {\n",
       "        text-align: right;\n",
       "    }\n",
       "</style>\n",
       "<table border=\"1\" class=\"dataframe\">\n",
       "  <thead>\n",
       "    <tr style=\"text-align: right;\">\n",
       "      <th></th>\n",
       "      <th>tweet</th>\n",
       "      <th>product</th>\n",
       "      <th>sentiment</th>\n",
       "      <th>Chars</th>\n",
       "      <th>words</th>\n",
       "      <th>sentence</th>\n",
       "      <th>clean_tweet</th>\n",
       "      <th>tokens</th>\n",
       "      <th>processsed_tweet</th>\n",
       "    </tr>\n",
       "  </thead>\n",
       "  <tbody>\n",
       "    <tr>\n",
       "      <th>0</th>\n",
       "      <td>.@wesley83 I have a 3G iPhone. After 3 hrs twe...</td>\n",
       "      <td>iPhone</td>\n",
       "      <td>Negative emotion</td>\n",
       "      <td>127</td>\n",
       "      <td>32</td>\n",
       "      <td>5</td>\n",
       "      <td>i have a g iphone after  hrs tweeting at  it ...</td>\n",
       "      <td>[g, iphon, hr, tweet, dead, need, upgrad, plug...</td>\n",
       "      <td>g iphon hr tweet dead need upgrad plugin station</td>\n",
       "    </tr>\n",
       "    <tr>\n",
       "      <th>1</th>\n",
       "      <td>@jessedee Know about @fludapp ? Awesome iPad/i...</td>\n",
       "      <td>iPad or iPhone App</td>\n",
       "      <td>Positive emotion</td>\n",
       "      <td>139</td>\n",
       "      <td>29</td>\n",
       "      <td>3</td>\n",
       "      <td>know about   awesome ipadiphone app that youl...</td>\n",
       "      <td>[know, awesom, ipadiphon, app, youll, like, ap...</td>\n",
       "      <td>know awesom ipadiphon app youll like appreci d...</td>\n",
       "    </tr>\n",
       "    <tr>\n",
       "      <th>2</th>\n",
       "      <td>@swonderlin Can not wait for #iPad 2 also. The...</td>\n",
       "      <td>iPad</td>\n",
       "      <td>Positive emotion</td>\n",
       "      <td>79</td>\n",
       "      <td>20</td>\n",
       "      <td>2</td>\n",
       "      <td>can not wait for   also they should sale them...</td>\n",
       "      <td>[wait, also, sale]</td>\n",
       "      <td>wait also sale</td>\n",
       "    </tr>\n",
       "    <tr>\n",
       "      <th>3</th>\n",
       "      <td>@sxsw I hope this year's festival isn't as cra...</td>\n",
       "      <td>iPad or iPhone App</td>\n",
       "      <td>Negative emotion</td>\n",
       "      <td>82</td>\n",
       "      <td>21</td>\n",
       "      <td>2</td>\n",
       "      <td>i hope this years festival isnt as crashy as ...</td>\n",
       "      <td>[hope, year, festiv, isnt, crashi, year, iphon...</td>\n",
       "      <td>hope year festiv isnt crashi year iphon app</td>\n",
       "    </tr>\n",
       "    <tr>\n",
       "      <th>4</th>\n",
       "      <td>@sxtxstate great stuff on Fri #SXSW: Marissa M...</td>\n",
       "      <td>Google</td>\n",
       "      <td>Positive emotion</td>\n",
       "      <td>131</td>\n",
       "      <td>29</td>\n",
       "      <td>1</td>\n",
       "      <td>great stuff on fri  marissa mayer google tim ...</td>\n",
       "      <td>[great, stuff, fri, marissa, mayer, googl, tim...</td>\n",
       "      <td>great stuff fri marissa mayer googl tim oreill...</td>\n",
       "    </tr>\n",
       "  </tbody>\n",
       "</table>\n",
       "</div>"
      ],
      "text/plain": [
       "                                               tweet             product  \\\n",
       "0  .@wesley83 I have a 3G iPhone. After 3 hrs twe...              iPhone   \n",
       "1  @jessedee Know about @fludapp ? Awesome iPad/i...  iPad or iPhone App   \n",
       "2  @swonderlin Can not wait for #iPad 2 also. The...                iPad   \n",
       "3  @sxsw I hope this year's festival isn't as cra...  iPad or iPhone App   \n",
       "4  @sxtxstate great stuff on Fri #SXSW: Marissa M...              Google   \n",
       "\n",
       "          sentiment  Chars  words  sentence  \\\n",
       "0  Negative emotion    127     32         5   \n",
       "1  Positive emotion    139     29         3   \n",
       "2  Positive emotion     79     20         2   \n",
       "3  Negative emotion     82     21         2   \n",
       "4  Positive emotion    131     29         1   \n",
       "\n",
       "                                         clean_tweet  \\\n",
       "0   i have a g iphone after  hrs tweeting at  it ...   \n",
       "1   know about   awesome ipadiphone app that youl...   \n",
       "2   can not wait for   also they should sale them...   \n",
       "3   i hope this years festival isnt as crashy as ...   \n",
       "4   great stuff on fri  marissa mayer google tim ...   \n",
       "\n",
       "                                              tokens  \\\n",
       "0  [g, iphon, hr, tweet, dead, need, upgrad, plug...   \n",
       "1  [know, awesom, ipadiphon, app, youll, like, ap...   \n",
       "2                                 [wait, also, sale]   \n",
       "3  [hope, year, festiv, isnt, crashi, year, iphon...   \n",
       "4  [great, stuff, fri, marissa, mayer, googl, tim...   \n",
       "\n",
       "                                    processsed_tweet  \n",
       "0   g iphon hr tweet dead need upgrad plugin station  \n",
       "1  know awesom ipadiphon app youll like appreci d...  \n",
       "2                                     wait also sale  \n",
       "3        hope year festiv isnt crashi year iphon app  \n",
       "4  great stuff fri marissa mayer googl tim oreill...  "
      ]
     },
     "execution_count": 129,
     "metadata": {},
     "output_type": "execute_result"
    }
   ],
   "source": [
    "df.head()"
   ]
  },
  {
   "cell_type": "markdown",
   "id": "95d9c442",
   "metadata": {},
   "source": [
    "## Modelling Functions "
   ]
  },
  {
   "cell_type": "code",
   "execution_count": 184,
   "id": "fb0bba58",
   "metadata": {},
   "outputs": [
    {
     "name": "stderr",
     "output_type": "stream",
     "text": [
      "[nltk_data] Downloading package stopwords to\n",
      "[nltk_data]     C:\\Users\\Mannu\\AppData\\Roaming\\nltk_data...\n",
      "[nltk_data]   Package stopwords is already up-to-date!\n",
      "[nltk_data] Downloading package wordnet to\n",
      "[nltk_data]     C:\\Users\\Mannu\\AppData\\Roaming\\nltk_data...\n",
      "[nltk_data]   Package wordnet is already up-to-date!\n"
     ]
    },
    {
     "data": {
      "text/plain": [
       "True"
      ]
     },
     "execution_count": 184,
     "metadata": {},
     "output_type": "execute_result"
    }
   ],
   "source": [
    "from sklearn.metrics import accuracy_score, f1_score, confusion_matrix, precision_recall_fscore_support, classification_report, precision_score, recall_score\n",
    "\n",
    "#nltk resources \n",
    "nltk.download('stopwords')\n",
    "nltk.download('wordnet')"
   ]
  },
  {
   "cell_type": "code",
   "execution_count": 131,
   "id": "a8206967",
   "metadata": {},
   "outputs": [],
   "source": [
    "X_text = df['processsed_tweet'].fillna(' ')\n",
    "\n",
    "#initialize the vectorizer\n",
    "vectorizer = TfidfVectorizer( max_features=5000, stop_words='english')\n",
    "\n",
    "#fit and transform\n",
    "X =vectorizer.fit_transform(X_text)"
   ]
  },
  {
   "cell_type": "markdown",
   "id": "09cd428b",
   "metadata": {},
   "source": [
    "## Encoding target labels"
   ]
  },
  {
   "cell_type": "code",
   "execution_count": 132,
   "id": "bbd71a3f",
   "metadata": {},
   "outputs": [
    {
     "name": "stdout",
     "output_type": "stream",
     "text": [
      "Label Mapping\n",
      "I can't tell -> 0\n",
      "Negative emotion -> 1\n",
      "No emotion toward brand or product -> 2\n",
      "Positive emotion -> 3\n"
     ]
    }
   ],
   "source": [
    "from sklearn.preprocessing import LabelEncoder\n",
    "\n",
    "#initialize the ecoder the fit the data\n",
    "le = LabelEncoder()\n",
    "df['sentiment_encoded'] = le.fit_transform(df['sentiment'])\n",
    "\n",
    "#show label mapping\n",
    "print('Label Mapping')\n",
    "for label, encoded in zip(le.classes_, le.transform(le.classes_)):\n",
    "    print(f\"{label} -> {encoded}\")\n",
    "\n",
    "#define y\n",
    "y= df['sentiment_encoded']"
   ]
  },
  {
   "cell_type": "markdown",
   "id": "fd6d8a09",
   "metadata": {},
   "source": [
    "## Train and Split"
   ]
  },
  {
   "cell_type": "code",
   "execution_count": 140,
   "id": "85dab201",
   "metadata": {},
   "outputs": [
    {
     "name": "stdout",
     "output_type": "stream",
     "text": [
      "Training shape: (7256, 5000) (7256,)\n",
      "Test Shape:  (1814, 5000) (1814,)\n"
     ]
    }
   ],
   "source": [
    "from sklearn.model_selection import train_test_split\n",
    "\n",
    "X_train, X_test, y_train, y_test = train_test_split(X,y, random_state=42, test_size=0.2, stratify=y)\n",
    "\n",
    "print(f'Training shape:', X_train.shape, y_train.shape)\n",
    "print(f'Test Shape: ', X_test.shape, y_test.shape)"
   ]
  },
  {
   "cell_type": "markdown",
   "id": "04e5e124",
   "metadata": {},
   "source": [
    "## Pipeline for each model"
   ]
  },
  {
   "cell_type": "code",
   "execution_count": 141,
   "id": "58bbda35",
   "metadata": {},
   "outputs": [],
   "source": [
    "from sklearn.pipeline import Pipeline\n",
    "from sklearn.ensemble import RandomForestClassifier\n",
    "from sklearn.linear_model import LogisticRegression\n",
    "from sklearn.naive_bayes import MultinomialNB\n",
    "from sklearn.neighbors import KNeighborsClassifier\n",
    "from xgboost import XGBClassifier"
   ]
  },
  {
   "cell_type": "code",
   "execution_count": 142,
   "id": "d1c80f68",
   "metadata": {},
   "outputs": [
    {
     "name": "stdout",
     "output_type": "stream",
     "text": [
      " Pipelines created: ['Random Forest', 'Logistic Regression', 'Naive Bayes', 'KNN', 'XGBoost']\n"
     ]
    }
   ],
   "source": [
    "#define classifiers \n",
    "models = { \n",
    "    'Random Forest': RandomForestClassifier(n_estimators=100, random_state=42, class_weight='balanced'),\n",
    "    'Logistic Regression': LogisticRegression(max_iter=1000, random_state=42),\n",
    "    'Naive Bayes': MultinomialNB(),\n",
    "    'KNN':KNeighborsClassifier(n_neighbors=5),\n",
    "    'XGBoost': XGBClassifier(use_label_encoder = False, eval_metric = 'mlogloss', random_state = 42)\n",
    "}\n",
    "\n",
    "#define pipelines\n",
    "pipeline = {}\n",
    "\n",
    "for name, clf in models.items():\n",
    "    pipeline[name] = Pipeline([\n",
    "        ('tfidf', TfidfVectorizer(max_features=5000, stop_words='english')),\n",
    "        ('clf', clf)\n",
    "    ])\n",
    "\n",
    "#  Now pipelines has: \n",
    "# 'Logistic Regression', 'Random Forest', 'Naive Bayes', 'KNN', 'XGBoost'\n",
    "print(\" Pipelines created:\", list(pipeline.keys()))\n"
   ]
  },
  {
   "cell_type": "markdown",
   "id": "575d833d",
   "metadata": {},
   "source": [
    "### Logistic Regresssion\n"
   ]
  },
  {
   "cell_type": "code",
   "execution_count": 145,
   "id": "7c77c3c7",
   "metadata": {},
   "outputs": [],
   "source": [
    "log_reg = Pipeline([\n",
    "    ('classifier', LogisticRegression(max_iter=100, random_state=42))\n",
    "])"
   ]
  },
  {
   "cell_type": "code",
   "execution_count": 148,
   "id": "99bd8c70",
   "metadata": {},
   "outputs": [
    {
     "name": "stdout",
     "output_type": "stream",
     "text": [
      "n\\Detailed Classification Report:\n",
      "              precision    recall  f1-score   support\n",
      "\n",
      "           0       0.00      0.00      0.00        31\n",
      "           1       1.00      0.06      0.12       114\n",
      "           2       0.69      0.88      0.77      1075\n",
      "           3       0.63      0.46      0.53       594\n",
      "\n",
      "    accuracy                           0.68      1814\n",
      "   macro avg       0.58      0.35      0.36      1814\n",
      "weighted avg       0.68      0.68      0.64      1814\n",
      "\n"
     ]
    },
    {
     "name": "stderr",
     "output_type": "stream",
     "text": [
      "c:\\Users\\Mannu\\anaconda3\\envs\\learn-env\\lib\\site-packages\\sklearn\\metrics\\_classification.py:1471: UndefinedMetricWarning: Precision and F-score are ill-defined and being set to 0.0 in labels with no predicted samples. Use `zero_division` parameter to control this behavior.\n",
      "  _warn_prf(average, modifier, msg_start, len(result))\n",
      "c:\\Users\\Mannu\\anaconda3\\envs\\learn-env\\lib\\site-packages\\sklearn\\metrics\\_classification.py:1471: UndefinedMetricWarning: Precision and F-score are ill-defined and being set to 0.0 in labels with no predicted samples. Use `zero_division` parameter to control this behavior.\n",
      "  _warn_prf(average, modifier, msg_start, len(result))\n",
      "c:\\Users\\Mannu\\anaconda3\\envs\\learn-env\\lib\\site-packages\\sklearn\\metrics\\_classification.py:1471: UndefinedMetricWarning: Precision and F-score are ill-defined and being set to 0.0 in labels with no predicted samples. Use `zero_division` parameter to control this behavior.\n",
      "  _warn_prf(average, modifier, msg_start, len(result))\n",
      "c:\\Users\\Mannu\\anaconda3\\envs\\learn-env\\lib\\site-packages\\sklearn\\metrics\\_classification.py:1471: UndefinedMetricWarning: Precision and F-score are ill-defined and being set to 0.0 in labels with no predicted samples. Use `zero_division` parameter to control this behavior.\n",
      "  _warn_prf(average, modifier, msg_start, len(result))\n"
     ]
    }
   ],
   "source": [
    "#train the model\n",
    "log_reg.fit(X_train, y_train)\n",
    "\n",
    "#predict\n",
    "y_pred_log_reg = log_reg.predict(X_test)\n",
    "\n",
    "#Evaluate the model\n",
    "accuracy = accuracy_score(y_test, y_pred_log_reg)\n",
    "log_reg_precion, log_reg_recall, log_reg_f1score, _ = precision_recall_fscore_support(y_test, y_pred_log_reg, average='weighted')\n",
    "\n",
    "#detailed report\n",
    "print('n\\Detailed Classification Report:')\n",
    "print(classification_report(y_test, y_pred_log_reg))\n"
   ]
  },
  {
   "cell_type": "markdown",
   "id": "dfcc86d3",
   "metadata": {},
   "source": [
    "### Hyperparameter tuning using GridSearchCv"
   ]
  },
  {
   "cell_type": "code",
   "execution_count": 149,
   "id": "5c4a3f26",
   "metadata": {},
   "outputs": [],
   "source": [
    "from sklearn.model_selection import GridSearchCV"
   ]
  },
  {
   "cell_type": "code",
   "execution_count": 153,
   "id": "93bf5eb9",
   "metadata": {},
   "outputs": [
    {
     "name": "stdout",
     "output_type": "stream",
     "text": [
      "Fitting 3 folds for each of 8 candidates, totalling 24 fits\n",
      "[CV] END ..........................C=0.01, class_weight=None; total time=   0.2s\n",
      "[CV] END ..........................C=0.01, class_weight=None; total time=   0.1s\n",
      "[CV] END ..........................C=0.01, class_weight=None; total time=   0.1s\n",
      "[CV] END ......................C=0.01, class_weight=balanced; total time=   0.2s\n",
      "[CV] END ......................C=0.01, class_weight=balanced; total time=   0.0s\n",
      "[CV] END ......................C=0.01, class_weight=balanced; total time=   0.2s\n",
      "[CV] END ...........................C=0.1, class_weight=None; total time=   0.3s\n",
      "[CV] END ...........................C=0.1, class_weight=None; total time=   1.1s\n",
      "[CV] END ...........................C=0.1, class_weight=None; total time=   0.4s\n",
      "[CV] END .......................C=0.1, class_weight=balanced; total time=   0.2s\n",
      "[CV] END .......................C=0.1, class_weight=balanced; total time=   0.2s\n",
      "[CV] END .......................C=0.1, class_weight=balanced; total time=   0.3s\n",
      "[CV] END .............................C=1, class_weight=None; total time=   0.5s\n",
      "[CV] END .............................C=1, class_weight=None; total time=   0.5s\n",
      "[CV] END .............................C=1, class_weight=None; total time=   0.5s\n"
     ]
    },
    {
     "name": "stderr",
     "output_type": "stream",
     "text": [
      "c:\\Users\\Mannu\\anaconda3\\envs\\learn-env\\lib\\site-packages\\sklearn\\linear_model\\_logistic.py:460: ConvergenceWarning: lbfgs failed to converge (status=1):\n",
      "STOP: TOTAL NO. of ITERATIONS REACHED LIMIT.\n",
      "\n",
      "Increase the number of iterations (max_iter) or scale the data as shown in:\n",
      "    https://scikit-learn.org/stable/modules/preprocessing.html\n",
      "Please also refer to the documentation for alternative solver options:\n",
      "    https://scikit-learn.org/stable/modules/linear_model.html#logistic-regression\n",
      "  n_iter_i = _check_optimize_result(\n"
     ]
    },
    {
     "name": "stdout",
     "output_type": "stream",
     "text": [
      "[CV] END .........................C=1, class_weight=balanced; total time=   0.7s\n"
     ]
    },
    {
     "name": "stderr",
     "output_type": "stream",
     "text": [
      "c:\\Users\\Mannu\\anaconda3\\envs\\learn-env\\lib\\site-packages\\sklearn\\linear_model\\_logistic.py:460: ConvergenceWarning: lbfgs failed to converge (status=1):\n",
      "STOP: TOTAL NO. of ITERATIONS REACHED LIMIT.\n",
      "\n",
      "Increase the number of iterations (max_iter) or scale the data as shown in:\n",
      "    https://scikit-learn.org/stable/modules/preprocessing.html\n",
      "Please also refer to the documentation for alternative solver options:\n",
      "    https://scikit-learn.org/stable/modules/linear_model.html#logistic-regression\n",
      "  n_iter_i = _check_optimize_result(\n"
     ]
    },
    {
     "name": "stdout",
     "output_type": "stream",
     "text": [
      "[CV] END .........................C=1, class_weight=balanced; total time=   0.8s\n"
     ]
    },
    {
     "name": "stderr",
     "output_type": "stream",
     "text": [
      "c:\\Users\\Mannu\\anaconda3\\envs\\learn-env\\lib\\site-packages\\sklearn\\linear_model\\_logistic.py:460: ConvergenceWarning: lbfgs failed to converge (status=1):\n",
      "STOP: TOTAL NO. of ITERATIONS REACHED LIMIT.\n",
      "\n",
      "Increase the number of iterations (max_iter) or scale the data as shown in:\n",
      "    https://scikit-learn.org/stable/modules/preprocessing.html\n",
      "Please also refer to the documentation for alternative solver options:\n",
      "    https://scikit-learn.org/stable/modules/linear_model.html#logistic-regression\n",
      "  n_iter_i = _check_optimize_result(\n"
     ]
    },
    {
     "name": "stdout",
     "output_type": "stream",
     "text": [
      "[CV] END .........................C=1, class_weight=balanced; total time=   0.8s\n"
     ]
    },
    {
     "name": "stderr",
     "output_type": "stream",
     "text": [
      "c:\\Users\\Mannu\\anaconda3\\envs\\learn-env\\lib\\site-packages\\sklearn\\linear_model\\_logistic.py:460: ConvergenceWarning: lbfgs failed to converge (status=1):\n",
      "STOP: TOTAL NO. of ITERATIONS REACHED LIMIT.\n",
      "\n",
      "Increase the number of iterations (max_iter) or scale the data as shown in:\n",
      "    https://scikit-learn.org/stable/modules/preprocessing.html\n",
      "Please also refer to the documentation for alternative solver options:\n",
      "    https://scikit-learn.org/stable/modules/linear_model.html#logistic-regression\n",
      "  n_iter_i = _check_optimize_result(\n"
     ]
    },
    {
     "name": "stdout",
     "output_type": "stream",
     "text": [
      "[CV] END ............................C=10, class_weight=None; total time=   0.7s\n"
     ]
    },
    {
     "name": "stderr",
     "output_type": "stream",
     "text": [
      "c:\\Users\\Mannu\\anaconda3\\envs\\learn-env\\lib\\site-packages\\sklearn\\linear_model\\_logistic.py:460: ConvergenceWarning: lbfgs failed to converge (status=1):\n",
      "STOP: TOTAL NO. of ITERATIONS REACHED LIMIT.\n",
      "\n",
      "Increase the number of iterations (max_iter) or scale the data as shown in:\n",
      "    https://scikit-learn.org/stable/modules/preprocessing.html\n",
      "Please also refer to the documentation for alternative solver options:\n",
      "    https://scikit-learn.org/stable/modules/linear_model.html#logistic-regression\n",
      "  n_iter_i = _check_optimize_result(\n"
     ]
    },
    {
     "name": "stdout",
     "output_type": "stream",
     "text": [
      "[CV] END ............................C=10, class_weight=None; total time=   0.6s\n"
     ]
    },
    {
     "name": "stderr",
     "output_type": "stream",
     "text": [
      "c:\\Users\\Mannu\\anaconda3\\envs\\learn-env\\lib\\site-packages\\sklearn\\linear_model\\_logistic.py:460: ConvergenceWarning: lbfgs failed to converge (status=1):\n",
      "STOP: TOTAL NO. of ITERATIONS REACHED LIMIT.\n",
      "\n",
      "Increase the number of iterations (max_iter) or scale the data as shown in:\n",
      "    https://scikit-learn.org/stable/modules/preprocessing.html\n",
      "Please also refer to the documentation for alternative solver options:\n",
      "    https://scikit-learn.org/stable/modules/linear_model.html#logistic-regression\n",
      "  n_iter_i = _check_optimize_result(\n"
     ]
    },
    {
     "name": "stdout",
     "output_type": "stream",
     "text": [
      "[CV] END ............................C=10, class_weight=None; total time=   0.6s\n"
     ]
    },
    {
     "name": "stderr",
     "output_type": "stream",
     "text": [
      "c:\\Users\\Mannu\\anaconda3\\envs\\learn-env\\lib\\site-packages\\sklearn\\linear_model\\_logistic.py:460: ConvergenceWarning: lbfgs failed to converge (status=1):\n",
      "STOP: TOTAL NO. of ITERATIONS REACHED LIMIT.\n",
      "\n",
      "Increase the number of iterations (max_iter) or scale the data as shown in:\n",
      "    https://scikit-learn.org/stable/modules/preprocessing.html\n",
      "Please also refer to the documentation for alternative solver options:\n",
      "    https://scikit-learn.org/stable/modules/linear_model.html#logistic-regression\n",
      "  n_iter_i = _check_optimize_result(\n"
     ]
    },
    {
     "name": "stdout",
     "output_type": "stream",
     "text": [
      "[CV] END ........................C=10, class_weight=balanced; total time=   0.9s\n"
     ]
    },
    {
     "name": "stderr",
     "output_type": "stream",
     "text": [
      "c:\\Users\\Mannu\\anaconda3\\envs\\learn-env\\lib\\site-packages\\sklearn\\linear_model\\_logistic.py:460: ConvergenceWarning: lbfgs failed to converge (status=1):\n",
      "STOP: TOTAL NO. of ITERATIONS REACHED LIMIT.\n",
      "\n",
      "Increase the number of iterations (max_iter) or scale the data as shown in:\n",
      "    https://scikit-learn.org/stable/modules/preprocessing.html\n",
      "Please also refer to the documentation for alternative solver options:\n",
      "    https://scikit-learn.org/stable/modules/linear_model.html#logistic-regression\n",
      "  n_iter_i = _check_optimize_result(\n"
     ]
    },
    {
     "name": "stdout",
     "output_type": "stream",
     "text": [
      "[CV] END ........................C=10, class_weight=balanced; total time=   0.7s\n"
     ]
    },
    {
     "name": "stderr",
     "output_type": "stream",
     "text": [
      "c:\\Users\\Mannu\\anaconda3\\envs\\learn-env\\lib\\site-packages\\sklearn\\linear_model\\_logistic.py:460: ConvergenceWarning: lbfgs failed to converge (status=1):\n",
      "STOP: TOTAL NO. of ITERATIONS REACHED LIMIT.\n",
      "\n",
      "Increase the number of iterations (max_iter) or scale the data as shown in:\n",
      "    https://scikit-learn.org/stable/modules/preprocessing.html\n",
      "Please also refer to the documentation for alternative solver options:\n",
      "    https://scikit-learn.org/stable/modules/linear_model.html#logistic-regression\n",
      "  n_iter_i = _check_optimize_result(\n"
     ]
    },
    {
     "name": "stdout",
     "output_type": "stream",
     "text": [
      "[CV] END ........................C=10, class_weight=balanced; total time=   0.6s\n",
      "n\\Best hyperparameters found:\n",
      "- C : 10\n",
      "- class_weight : None\n"
     ]
    },
    {
     "name": "stderr",
     "output_type": "stream",
     "text": [
      "c:\\Users\\Mannu\\anaconda3\\envs\\learn-env\\lib\\site-packages\\sklearn\\linear_model\\_logistic.py:460: ConvergenceWarning: lbfgs failed to converge (status=1):\n",
      "STOP: TOTAL NO. of ITERATIONS REACHED LIMIT.\n",
      "\n",
      "Increase the number of iterations (max_iter) or scale the data as shown in:\n",
      "    https://scikit-learn.org/stable/modules/preprocessing.html\n",
      "Please also refer to the documentation for alternative solver options:\n",
      "    https://scikit-learn.org/stable/modules/linear_model.html#logistic-regression\n",
      "  n_iter_i = _check_optimize_result(\n"
     ]
    }
   ],
   "source": [
    "#define the parameter grid\n",
    "params_grid = {\n",
    "    'C': [0.01, 0.1, 1, 10],\n",
    "    'class_weight': [None, 'balanced']\n",
    "}\n",
    "\n",
    "#set up the GridSearchCV\n",
    "grid_search = GridSearchCV(\n",
    "    estimator= LogisticRegression(max_iter=100, random_state=42),\n",
    "    param_grid= params_grid,\n",
    "    scoring= 'f1_weighted',\n",
    "    cv = 3,\n",
    "    verbose= 2,\n",
    "    n_jobs=1\n",
    ")\n",
    "\n",
    "#fit\n",
    "grid_search.fit(X_train, y_train)\n",
    "\n",
    "print('n\\Best hyperparameters found:')\n",
    "\n",
    "for param, value in grid_search.best_params_.items():\n",
    "    print(f'- {param} : {value}')\n"
   ]
  },
  {
   "cell_type": "code",
   "execution_count": 157,
   "id": "4051e008",
   "metadata": {},
   "outputs": [
    {
     "name": "stdout",
     "output_type": "stream",
     "text": [
      "n\\Detailed Classification Report:\n",
      "              precision    recall  f1-score   support\n",
      "\n",
      "           0       0.00      0.00      0.00        31\n",
      "           1       0.48      0.26      0.34       114\n",
      "           2       0.71      0.81      0.75      1075\n",
      "           3       0.60      0.52      0.56       594\n",
      "\n",
      "    accuracy                           0.67      1814\n",
      "   macro avg       0.45      0.40      0.41      1814\n",
      "weighted avg       0.65      0.67      0.65      1814\n",
      "\n"
     ]
    }
   ],
   "source": [
    "\n",
    "#tuning on test set\n",
    "y_pred = grid_search.predict(X_test)\n",
    "\n",
    "#evaluate the model\n",
    "accuracy = accuracy_score(y_test, y_pred)\n",
    "precision, recall, flscore, _ = precision_recall_fscore_support(y_test, y_pred, average='weighted')\n",
    "\n",
    "#detailed classification report\n",
    "print(\"n\\Detailed Classification Report:\")\n",
    "print(classification_report(y_test,y_pred))"
   ]
  },
  {
   "cell_type": "markdown",
   "id": "a4e6e05f",
   "metadata": {},
   "source": [
    "## Random Forest Model"
   ]
  },
  {
   "cell_type": "code",
   "execution_count": 159,
   "id": "ed01113d",
   "metadata": {},
   "outputs": [
    {
     "name": "stdout",
     "output_type": "stream",
     "text": [
      "n\\Detailed Report:\n",
      "              precision    recall  f1-score   support\n",
      "\n",
      "           0       0.00      0.00      0.00        31\n",
      "           1       0.61      0.20      0.30       114\n",
      "           2       0.68      0.86      0.76      1075\n",
      "           3       0.63      0.43      0.51       594\n",
      "\n",
      "    accuracy                           0.67      1814\n",
      "   macro avg       0.48      0.37      0.39      1814\n",
      "weighted avg       0.65      0.67      0.64      1814\n",
      "\n"
     ]
    }
   ],
   "source": [
    "#define the model\n",
    "rf_model = RandomForestClassifier(\n",
    "    n_estimators=100,\n",
    "    random_state=42,\n",
    "    class_weight= 'balanced'\n",
    ")\n",
    "#fit the model/train\n",
    "rf_model.fit(X_train, y_train)\n",
    "\n",
    "#predict the model\n",
    "y_pred_rf_model = rf_model.predict(X_test)\n",
    "\n",
    "#evaluate the model\n",
    "accuracy = accuracy_score(y_test, y_pred_rf_model)\n",
    "precision, recall, f1_score, _ = precision_recall_fscore_support(y_test, y_pred_rf_model)\n",
    "\n",
    "#detailed report\n",
    "print('n\\Detailed Report:')\n",
    "print(classification_report(y_test, y_pred_rf_model))\n"
   ]
  },
  {
   "cell_type": "code",
   "execution_count": 162,
   "id": "02170e53",
   "metadata": {},
   "outputs": [
    {
     "name": "stdout",
     "output_type": "stream",
     "text": [
      "Fitting 3 folds for each of 12 candidates, totalling 36 fits\n",
      " Best RF Parameters:\n",
      "{'class_weight': None, 'max_depth': None, 'n_estimators': 300}\n"
     ]
    }
   ],
   "source": [
    "#  Grid search\n",
    "\n",
    "#  Define parameter grid (only RandomForest hyperparameters)\n",
    "param_grid_rf = {\n",
    "    'n_estimators': [100, 300],\n",
    "    'max_depth': [10, 20, None],\n",
    "    'class_weight': [None, 'balanced']\n",
    "}\n",
    "grid_search_rf = GridSearchCV(\n",
    "    estimator=RandomForestClassifier(random_state=42),\n",
    "    param_grid=param_grid_rf,\n",
    "    scoring='f1_weighted',\n",
    "    cv=3,\n",
    "    n_jobs=-1,\n",
    "    verbose=2\n",
    ")\n",
    "\n",
    "#  Fit on pre-vectorized data\n",
    "grid_search_rf.fit(X_train, y_train)\n",
    "\n",
    "print(\" Best RF Parameters:\")\n",
    "print(grid_search_rf.best_params_)"
   ]
  },
  {
   "cell_type": "code",
   "execution_count": 163,
   "id": "ed0a0cf2",
   "metadata": {},
   "outputs": [
    {
     "name": "stdout",
     "output_type": "stream",
     "text": [
      " Tuned Random Forest Performance:\n",
      "Accuracy : 0.6803\n",
      "Precision: 0.6704\n",
      "Recall   : 0.6803\n",
      "F1 Score : 0.6549\n",
      "\n",
      " Detailed Classification Report:\n",
      "\n",
      "              precision    recall  f1-score   support\n",
      "\n",
      "           0       0.00      0.00      0.00        31\n",
      "           1       0.70      0.20      0.31       114\n",
      "           2       0.69      0.87      0.77      1075\n",
      "           3       0.66      0.46      0.54       594\n",
      "\n",
      "    accuracy                           0.68      1814\n",
      "   macro avg       0.51      0.38      0.41      1814\n",
      "weighted avg       0.67      0.68      0.65      1814\n",
      "\n"
     ]
    }
   ],
   "source": [
    "#  Predict with best model\n",
    "y_pred_rf_best = grid_search_rf.predict(X_test)\n",
    "\n",
    "#  Evaluate tuned model\n",
    "accuracy = accuracy_score(y_test, y_pred_rf_best)\n",
    "precision, recall, f1, _ = precision_recall_fscore_support(y_test, y_pred_rf_best, average='weighted')\n",
    "\n",
    "print(\" Tuned Random Forest Performance:\")\n",
    "print(f\"Accuracy : {accuracy:.4f}\")\n",
    "print(f\"Precision: {precision:.4f}\")\n",
    "print(f\"Recall   : {recall:.4f}\")\n",
    "print(f\"F1 Score : {f1:.4f}\")\n",
    "\n",
    "print(\"\\n Detailed Classification Report:\\n\")\n",
    "print(classification_report(y_test, y_pred_rf_best))\n"
   ]
  },
  {
   "cell_type": "markdown",
   "id": "8da14faf",
   "metadata": {},
   "source": [
    "## K-Nearests Neigbours(KNN) Model"
   ]
  },
  {
   "cell_type": "code",
   "execution_count": 166,
   "id": "9eb93d0c",
   "metadata": {},
   "outputs": [
    {
     "name": "stdout",
     "output_type": "stream",
     "text": [
      "n\\Classification Report:\n",
      "              precision    recall  f1-score   support\n",
      "\n",
      "           0       0.00      0.00      0.00        31\n",
      "           1       0.62      0.07      0.13       114\n",
      "           2       0.61      0.97      0.75      1075\n",
      "           3       0.66      0.12      0.20       594\n",
      "\n",
      "    accuracy                           0.62      1814\n",
      "   macro avg       0.47      0.29      0.27      1814\n",
      "weighted avg       0.62      0.62      0.52      1814\n",
      "\n"
     ]
    },
    {
     "name": "stderr",
     "output_type": "stream",
     "text": [
      "c:\\Users\\Mannu\\anaconda3\\envs\\learn-env\\lib\\site-packages\\sklearn\\metrics\\_classification.py:1471: UndefinedMetricWarning: Precision and F-score are ill-defined and being set to 0.0 in labels with no predicted samples. Use `zero_division` parameter to control this behavior.\n",
      "  _warn_prf(average, modifier, msg_start, len(result))\n",
      "c:\\Users\\Mannu\\anaconda3\\envs\\learn-env\\lib\\site-packages\\sklearn\\metrics\\_classification.py:1471: UndefinedMetricWarning: Precision and F-score are ill-defined and being set to 0.0 in labels with no predicted samples. Use `zero_division` parameter to control this behavior.\n",
      "  _warn_prf(average, modifier, msg_start, len(result))\n",
      "c:\\Users\\Mannu\\anaconda3\\envs\\learn-env\\lib\\site-packages\\sklearn\\metrics\\_classification.py:1471: UndefinedMetricWarning: Precision and F-score are ill-defined and being set to 0.0 in labels with no predicted samples. Use `zero_division` parameter to control this behavior.\n",
      "  _warn_prf(average, modifier, msg_start, len(result))\n"
     ]
    }
   ],
   "source": [
    "from sklearn.neighbors import KNeighborsClassifier\n",
    "\n",
    "#instatiate the model\n",
    "knn = KNeighborsClassifier(n_neighbors= 5, n_jobs= -1)\n",
    "\n",
    "#fit the model\n",
    "knn.fit(X_train, y_train)\n",
    "\n",
    "#predict\n",
    "y_pred_knn = knn.predict(X_test)\n",
    "\n",
    "#evaluate the model\n",
    "accuracy = accuracy_score(y_test, y_pred_knn)\n",
    "\n",
    "#detailed report\n",
    "print('n\\Classification Report:')\n",
    "print(classification_report(y_test, y_pred_knn))"
   ]
  },
  {
   "cell_type": "markdown",
   "id": "59ef3a15",
   "metadata": {},
   "source": [
    "### Tuning KNN witj GridSearchCV"
   ]
  },
  {
   "cell_type": "code",
   "execution_count": 175,
   "id": "5fa83743",
   "metadata": {},
   "outputs": [
    {
     "name": "stdout",
     "output_type": "stream",
     "text": [
      "Fitting 3 folds for each of 12 candidates, totalling 36 fits\n",
      "Accuracy : 0.6466372657111357\n",
      "Detailed Report:\n",
      "              precision    recall  f1-score   support\n",
      "\n",
      "           0       0.00      0.00      0.00        31\n",
      "           1       0.67      0.21      0.32       114\n",
      "           2       0.65      0.92      0.76      1075\n",
      "           3       0.67      0.27      0.39       594\n",
      "\n",
      "    accuracy                           0.65      1814\n",
      "   macro avg       0.50      0.35      0.37      1814\n",
      "weighted avg       0.64      0.65      0.60      1814\n",
      "\n"
     ]
    }
   ],
   "source": [
    "param_grid_knn = {\n",
    "    'n_neighbors': [3,5,7],\n",
    "    'weights': ['uniform', 'distance'],\n",
    "    'metric': ['euclidean', 'manhattan']\n",
    "}\n",
    "#gridsearch model\n",
    "grid_search_knn = GridSearchCV(\n",
    "    estimator= knn,\n",
    "    param_grid= param_grid_knn,\n",
    "    scoring='f1_weighted',\n",
    "    cv = 3,\n",
    "    verbose= 1,\n",
    "    n_jobs=-1\n",
    ")\n",
    "\n",
    "#fit \n",
    "grid_search_knn.fit(X_train, y_train)\n",
    "\n",
    "#predict\n",
    "y_pred_grid_search_knn = grid_search_knn.predict(X_test)\n",
    "\n",
    "#evaluate\n",
    "accuracy = accuracy_score (y_test, y_pred_grid_search_knn)\n",
    "print(f'Accuracy :', accuracy)\n",
    "\n",
    "#Detailed report\n",
    "print('Detailed Report:')\n",
    "print(classification_report(y_test, y_pred_grid_search_knn))"
   ]
  },
  {
   "cell_type": "markdown",
   "id": "d022a490",
   "metadata": {},
   "source": [
    "## Naive Bayes Classifier"
   ]
  },
  {
   "cell_type": "code",
   "execution_count": 177,
   "id": "2b4f04fd",
   "metadata": {},
   "outputs": [
    {
     "name": "stdout",
     "output_type": "stream",
     "text": [
      "\n",
      "Detailed Report :\n",
      "              precision    recall  f1-score   support\n",
      "\n",
      "           0       0.00      0.00      0.00        31\n",
      "           1       0.50      0.02      0.03       114\n",
      "           2       0.65      0.92      0.76      1075\n",
      "           3       0.63      0.30      0.41       594\n",
      "\n",
      "    accuracy                           0.65      1814\n",
      "   macro avg       0.45      0.31      0.30      1814\n",
      "weighted avg       0.62      0.65      0.59      1814\n",
      "\n"
     ]
    },
    {
     "name": "stderr",
     "output_type": "stream",
     "text": [
      "c:\\Users\\Mannu\\anaconda3\\envs\\learn-env\\lib\\site-packages\\sklearn\\metrics\\_classification.py:1471: UndefinedMetricWarning: Precision and F-score are ill-defined and being set to 0.0 in labels with no predicted samples. Use `zero_division` parameter to control this behavior.\n",
      "  _warn_prf(average, modifier, msg_start, len(result))\n",
      "c:\\Users\\Mannu\\anaconda3\\envs\\learn-env\\lib\\site-packages\\sklearn\\metrics\\_classification.py:1471: UndefinedMetricWarning: Precision and F-score are ill-defined and being set to 0.0 in labels with no predicted samples. Use `zero_division` parameter to control this behavior.\n",
      "  _warn_prf(average, modifier, msg_start, len(result))\n",
      "c:\\Users\\Mannu\\anaconda3\\envs\\learn-env\\lib\\site-packages\\sklearn\\metrics\\_classification.py:1471: UndefinedMetricWarning: Precision and F-score are ill-defined and being set to 0.0 in labels with no predicted samples. Use `zero_division` parameter to control this behavior.\n",
      "  _warn_prf(average, modifier, msg_start, len(result))\n"
     ]
    }
   ],
   "source": [
    "from sklearn.naive_bayes import MultinomialNB\n",
    "\n",
    "nb_model = Pipeline([\n",
    "    ('tdif', TfidfVectorizer(max_features= 5000, stop_words= 'english')),\n",
    "    ('clf', MultinomialNB)\n",
    "])\n",
    "\n",
    "#train\n",
    "nb_model = MultinomialNB()\n",
    "nb_model.fit(X_train, y_train)\n",
    "\n",
    "#predict\n",
    "y_pred_nb = nb_model.predict(X_test)\n",
    "\n",
    "#evaluate\n",
    "accuracy = accuracy_score(y_test, y_pred_nb)\n",
    "\n",
    "#Detailed report\n",
    "print('\\nDetailed Report :')\n",
    "print(classification_report(y_test, y_pred_nb))"
   ]
  },
  {
   "cell_type": "markdown",
   "id": "b51b2a2f",
   "metadata": {},
   "source": [
    "\n",
    "### Hyperparameter tuning of Naives Bayes using GridSearchCv"
   ]
  },
  {
   "cell_type": "code",
   "execution_count": 179,
   "id": "69e97bfa",
   "metadata": {},
   "outputs": [
    {
     "name": "stdout",
     "output_type": "stream",
     "text": [
      "Fitting 3 folds for each of 3 candidates, totalling 9 fits\n"
     ]
    },
    {
     "name": "stdout",
     "output_type": "stream",
     "text": [
      "Accuracy:  0.6460859977949284\n",
      "n\\Detailed Report:\n",
      "              precision    recall  f1-score   support\n",
      "\n",
      "           0       0.00      0.00      0.00        31\n",
      "           1       0.42      0.19      0.27       114\n",
      "           2       0.68      0.83      0.75      1075\n",
      "           3       0.57      0.44      0.50       594\n",
      "\n",
      "    accuracy                           0.65      1814\n",
      "   macro avg       0.42      0.36      0.38      1814\n",
      "weighted avg       0.62      0.65      0.62      1814\n",
      "\n"
     ]
    }
   ],
   "source": [
    "param_gridsearchCv_nb = {\n",
    "    'alpha': [0.1, 0.5, 1.0]\n",
    "}\n",
    "\n",
    "#GridSearchCV\n",
    "grid_search_nb  = GridSearchCV(\n",
    "    estimator= nb_model,\n",
    "    param_grid= param_gridsearchCv_nb,\n",
    "    scoring= 'f1_weighted',\n",
    "    cv = 3,\n",
    "    n_jobs= -1,\n",
    "    verbose= 2\n",
    ")\n",
    "\n",
    "#fit \n",
    "grid_search_nb.fit(X_train, y_train)\n",
    "\n",
    "#predict\n",
    "y_pred_grid_search_nb = grid_search_nb.predict(X_test)\n",
    "\n",
    "#evaluate\n",
    "accuracy = accuracy_score (y_test, y_pred_grid_search_nb)\n",
    "print(f'Accuracy: ', accuracy)\n",
    "\n",
    "#Detailed Report\n",
    "print('n\\Detailed Report:')\n",
    "print(classification_report(y_test, y_pred_grid_search_nb))"
   ]
  },
  {
   "cell_type": "markdown",
   "id": "1af8979f",
   "metadata": {},
   "source": [
    "## XGBoost Classifier"
   ]
  },
  {
   "cell_type": "code",
   "execution_count": 180,
   "id": "9b3a87de",
   "metadata": {},
   "outputs": [
    {
     "name": "stdout",
     "output_type": "stream",
     "text": [
      "Accuracy:  0.6714443219404631\n",
      "Detailed Report: \n",
      "              precision    recall  f1-score   support\n",
      "\n",
      "           0       0.00      0.00      0.00        31\n",
      "           1       0.47      0.12      0.19       114\n",
      "           2       0.68      0.90      0.77      1075\n",
      "           3       0.66      0.40      0.50       594\n",
      "\n",
      "    accuracy                           0.67      1814\n",
      "   macro avg       0.45      0.36      0.37      1814\n",
      "weighted avg       0.65      0.67      0.63      1814\n",
      "\n"
     ]
    }
   ],
   "source": [
    "#define the model\n",
    "xgboost_model = XGBClassifier(use_label_encoder = False, eval_metric = 'mlogloss', random_state = 42)\n",
    "\n",
    "#fit the model\n",
    "xgboost_model.fit(X_train, y_train)\n",
    "\n",
    "#predict\n",
    "y_pred_xgboost = xgboost_model.predict(X_test)\n",
    "\n",
    "#evaluate\n",
    "accuracy = accuracy_score(y_test, y_pred_xgboost)\n",
    "print(f'Accuracy: ', accuracy)\n",
    "\n",
    "#Detailed Report\n",
    "print(f'Detailed Report: ')\n",
    "print(classification_report(y_test, y_pred_xgboost))"
   ]
  },
  {
   "cell_type": "markdown",
   "id": "3fb08abc",
   "metadata": {},
   "source": [
    "### Hyperparameter Tuning with GridSearchCv"
   ]
  },
  {
   "cell_type": "code",
   "execution_count": 181,
   "id": "476508b0",
   "metadata": {},
   "outputs": [
    {
     "name": "stdout",
     "output_type": "stream",
     "text": [
      "Fitting 3 folds for each of 8 candidates, totalling 24 fits\n",
      "Accuracy:  0.6708930540242558\n"
     ]
    }
   ],
   "source": [
    "param_gridsearchCv_xg = {\n",
    "    'n_estimators': [100, 200],\n",
    "    'max_depth': [3, 5],\n",
    "    'learning_rate': [0.1, 0.3]\n",
    "}\n",
    "\n",
    "#Set GridSearchCv\n",
    "grid_search_xg = GridSearchCV(\n",
    "    estimator= xgboost_model,\n",
    "    param_grid= param_gridsearchCv_xg,\n",
    "    scoring= 'f1_weighted',\n",
    "    cv = 3,\n",
    "    n_jobs= -1,\n",
    "verbose= 2\n",
    ")\n",
    "\n",
    "#fit the data\n",
    "grid_search_xg.fit(X_train, y_train)\n",
    "\n",
    "#get best model\n",
    "best_xbg = grid_search_xg.best_estimator_\n",
    "\n",
    "#predict\n",
    "y_pred_best_xgb = best_xbg.predict(X_test)\n",
    "\n",
    "#evaluate\n",
    "accuracy = accuracy_score(y_test, y_pred_best_xgb)\n",
    "print(f'Accuracy: ', accuracy)"
   ]
  },
  {
   "cell_type": "markdown",
   "id": "9ffa5df4",
   "metadata": {},
   "source": [
    "## Comparing Models"
   ]
  },
  {
   "cell_type": "code",
   "execution_count": 185,
   "id": "01b6a0f7",
   "metadata": {},
   "outputs": [
    {
     "name": "stdout",
     "output_type": "stream",
     "text": [
      "                 Model  Accuracy  Precision    Recall  F1 Score\n",
      "1        Random Forest  0.681918   0.671033  0.681918  0.656620\n",
      "0  Logistic Regression  0.678060   0.679586  0.678060  0.641073\n",
      "3              XGBoost  0.671444   0.647800  0.671444  0.634607\n",
      "2          Naive Bayes  0.646086   0.622763  0.646086  0.587869\n"
     ]
    }
   ],
   "source": [
    "\n",
    "# Fit raw models (no pipeline)\n",
    "logreg_model = LogisticRegression(max_iter=1000, random_state=42, n_jobs=-1)\n",
    "rf_model = RandomForestClassifier(random_state=42, n_jobs=-1)\n",
    "nb_model = MultinomialNB()\n",
    "xgb_model = XGBClassifier(use_label_encoder=False, eval_metric='mlogloss', random_state=42)\n",
    "\n",
    "logreg_model.fit(X_train, y_train)\n",
    "rf_model.fit(X_train, y_train)\n",
    "nb_model.fit(X_train, y_train)\n",
    "xgb_model.fit(X_train, y_train)\n",
    "\n",
    "# Compare\n",
    "models = {\n",
    "    'Logistic Regression': logreg_model,\n",
    "    'Random Forest': rf_model,\n",
    "    'Naive Bayes': nb_model,\n",
    "    'XGBoost': xgb_model\n",
    "}\n",
    "\n",
    "results = []\n",
    "for name, model in models.items():\n",
    "    y_pred = model.predict(X_test)\n",
    "    results.append({\n",
    "        'Model': name,\n",
    "        'Accuracy': accuracy_score(y_test, y_pred),\n",
    "        'Precision': precision_score(y_test, y_pred, average='weighted', zero_division=0),\n",
    "        'Recall': recall_score(y_test, y_pred, average='weighted', zero_division=0),\n",
    "        'F1 Score': f1_score(y_test, y_pred, average='weighted', zero_division=0)\n",
    "    })\n",
    "\n",
    "\n",
    "metrics_df = pd.DataFrame(results).sort_values(by='Accuracy', ascending=False)\n",
    "print(metrics_df)"
   ]
  },
  {
   "cell_type": "markdown",
   "id": "8a7c63c8",
   "metadata": {},
   "source": [
    " **Insights:**\n",
    "- **Random Forest** achieved the highest accuracy (≈68%) and best F1 score (≈0.66).\n",
    "- **Logistic Regression** had the highest precision but slightly lower F1.\n",
    "- **XGBoost** and **Naive Bayes** performed slightly worse overall.\n",
    "- All models still show room for improvement, especially in minority class predictions."
   ]
  },
  {
   "cell_type": "code",
   "execution_count": 189,
   "id": "93ac85cd",
   "metadata": {},
   "outputs": [
    {
     "data": {
      "text/plain": [
       "['./models/random_forest_model.pkl']"
      ]
     },
     "execution_count": 189,
     "metadata": {},
     "output_type": "execute_result"
    }
   ],
   "source": [
    "# save model \n",
    "import joblib\n",
    "import os\n",
    "\n",
    "\n",
    "os.makedirs('./models', exist_ok=True)\n",
    "\n",
    "\n",
    "\n",
    "joblib.dump(rf_model, './models/random_forest_model.pkl')"
   ]
  }
 ],
 "metadata": {
  "kernelspec": {
   "display_name": "learn-env",
   "language": "python",
   "name": "python3"
  },
  "language_info": {
   "codemirror_mode": {
    "name": "ipython",
    "version": 3
   },
   "file_extension": ".py",
   "mimetype": "text/x-python",
   "name": "python",
   "nbconvert_exporter": "python",
   "pygments_lexer": "ipython3",
   "version": "3.8.5"
  }
 },
 "nbformat": 4,
 "nbformat_minor": 5
}
